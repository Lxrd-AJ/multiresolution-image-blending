{
 "cells": [
  {
   "cell_type": "markdown",
   "source": [
    "# Multi-Resolution Image Blending using OpenCV & PIL"
   ],
   "metadata": {}
  },
  {
   "cell_type": "markdown",
   "source": [
    "The goal is to blend 2 images seamlessly using gaussian & laplacian pyramids. This is a form of image in-painting"
   ],
   "metadata": {}
  },
  {
   "cell_type": "code",
   "execution_count": 2,
   "source": [
    "%reload_ext autoreload\n",
    "%autoreload 2"
   ],
   "outputs": [],
   "metadata": {}
  },
  {
   "cell_type": "code",
   "execution_count": 3,
   "source": [
    "import cv2 as cv\n",
    "import numpy as np"
   ],
   "outputs": [],
   "metadata": {}
  },
  {
   "cell_type": "code",
   "execution_count": 32,
   "source": [
    "A = cv.imread('Hand.png', cv.IMREAD_REDUCED_COLOR_4)\n",
    "# A = cv.resize(A, tuple((x//4 for x in A.shape[:2])))\n",
    "print(A.shape)\n",
    "\n",
    "\n",
    "B = cv.imread('Veles-Mask-Template.png', cv.IMREAD_REDUCED_COLOR_4)\n",
    "# B = cv.resize(B, tuple((x//4 for x in A.shape[:2])))\n",
    "print(B.shape)\n",
    "\n",
    "M = cv.imread('Mask.png', cv.IMREAD_REDUCED_GRAYSCALE_4)\n",
    "# M = M // 255\n",
    "print(M.shape)\n"
   ],
   "outputs": [
    {
     "output_type": "stream",
     "name": "stdout",
     "text": [
      "(2016, 1512, 3)\n",
      "(2016, 1512, 3)\n",
      "(2016, 1512)\n"
     ]
    }
   ],
   "metadata": {}
  },
  {
   "cell_type": "code",
   "execution_count": 58,
   "source": [
    "from pyramid import cv_laplacian, cv_pyramid\n",
    "from helper import cv2pil, multiply_g_bgr\n",
    "\n",
    "gpA = cv_pyramid(A.copy(), scale=5)\n",
    "gpB = cv_pyramid(B.copy(), scale=5)\n",
    "gpM = cv_pyramid(M.copy(), scale=5)\n",
    "\n",
    "\n",
    "lpA = cv_laplacian(gpA, scale=5)\n",
    "lpB = cv_laplacian(gpB, scale=5)\n",
    "lpM = cv_laplacian(gpM, scale=5)\n",
    "\n",
    "# cv2pil(lpA[0]).show()\n",
    "# cv2pil(lpB[0]).show()\n",
    "# cv2pil(gpM[0]).show()\n",
    "\n",
    "lpM0 = gpM[0] // 255\n",
    "result0 = multiply_g_bgr(lpM0, lpB[0]) + multiply_g_bgr((1 - lpM0) , lpA[0])\n",
    "result0 = result0.astype(np.uint8)\n",
    "cv2pil(result0).show()\n",
    "\n",
    "blended = cv.add(cv.pyrUp(gpA[1]), result0)\n",
    "cv2pil(blended).show()\n",
    "\n",
    "# [cv2pil(x).show() for x in lpA]\n"
   ],
   "outputs": [],
   "metadata": {}
  },
  {
   "cell_type": "code",
   "execution_count": 57,
   "source": [],
   "outputs": [],
   "metadata": {}
  }
 ],
 "metadata": {
  "orig_nbformat": 4,
  "language_info": {
   "name": "python",
   "version": "3.9.7",
   "mimetype": "text/x-python",
   "codemirror_mode": {
    "name": "ipython",
    "version": 3
   },
   "pygments_lexer": "ipython3",
   "nbconvert_exporter": "python",
   "file_extension": ".py"
  },
  "kernelspec": {
   "name": "python3",
   "display_name": "Python 3.9.7 64-bit"
  },
  "interpreter": {
   "hash": "aee8b7b246df8f9039afb4144a1f6fd8d2ca17a180786b69acc140d282b71a49"
  }
 },
 "nbformat": 4,
 "nbformat_minor": 2
}