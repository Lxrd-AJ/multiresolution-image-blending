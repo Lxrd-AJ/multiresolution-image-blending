{
 "cells": [
  {
   "cell_type": "markdown",
   "source": [
    "# Multi-Resolution Image Blending from scratch"
   ],
   "metadata": {}
  },
  {
   "cell_type": "code",
   "execution_count": 1,
   "source": [
    "%reload_ext autoreload\n",
    "%autoreload 2"
   ],
   "outputs": [],
   "metadata": {}
  },
  {
   "cell_type": "code",
   "execution_count": 2,
   "source": [
    "\n",
    "from PIL import Image"
   ],
   "outputs": [],
   "metadata": {}
  },
  {
   "cell_type": "code",
   "execution_count": 3,
   "source": [
    "img = Image.open('Julia.jpeg')\n",
    "anansi_veles_img = img.resize((x//4 for x in img.size)) # downscale by 4"
   ],
   "outputs": [],
   "metadata": {}
  },
  {
   "cell_type": "markdown",
   "source": [
    "# Building a Gaussian Pyramid"
   ],
   "metadata": {}
  },
  {
   "cell_type": "code",
   "execution_count": 4,
   "source": [
    "from pyramid import pyramid, smoothing_kernel\n",
    "from PIL import ImageFilter\n",
    "\n",
    "kernel = ImageFilter.GaussianBlur(2)\n",
    "# kernel = smoothing_kernel()\n",
    "g = pyramid(anansi_veles_img, scale=5, kernel=kernel)\n",
    "for x in g:\n",
    "    print(x.size)\n",
    "    # x.show()"
   ],
   "outputs": [
    {
     "output_type": "stream",
     "name": "stdout",
     "text": [
      "(691, 884)\n",
      "(345, 442)\n",
      "(172, 221)\n",
      "(86, 110)\n",
      "(43, 55)\n"
     ]
    }
   ],
   "metadata": {}
  },
  {
   "cell_type": "markdown",
   "source": [
    "# Showing the effects of what smoothing an image does"
   ],
   "metadata": {}
  },
  {
   "cell_type": "code",
   "execution_count": 5,
   "source": [
    "from PIL import ImageChops, ImageFilter\n",
    "kernel = ImageFilter.GaussianBlur(2)\n",
    "g0 = anansi_veles_img\n",
    "g1 = anansi_veles_img.filter(kernel)\n",
    "# g1.show()\n",
    "diff = ImageChops.difference(g0, g1)\n",
    "# diff = ImageChops.subtract(g1, g0, 1.0, 150) #150 added here to help brighten the image\n",
    "# diff.show()"
   ],
   "outputs": [],
   "metadata": {}
  },
  {
   "cell_type": "markdown",
   "source": [
    "# Building the laplcaian pyramid"
   ],
   "metadata": {}
  },
  {
   "cell_type": "code",
   "execution_count": 6,
   "source": [
    "from pyramid import laplacian\n",
    "l = laplacian(anansi_veles_img, scale=5, kernel=kernel)\n",
    "for im in l:\n",
    "    print(im.size)\n",
    "    # im.show()"
   ],
   "outputs": [
    {
     "output_type": "stream",
     "name": "stdout",
     "text": [
      "(690, 884)\n",
      "(344, 442)\n",
      "(172, 220)\n",
      "(86, 110)\n",
      "(42, 54)\n"
     ]
    }
   ],
   "metadata": {}
  },
  {
   "cell_type": "markdown",
   "source": [
    "## Moment of truth!\n",
    "Reconstructing the original image from the first laplacian, $l_0$ and the 2nd pyramid $g_1$"
   ],
   "metadata": {}
  },
  {
   "cell_type": "code",
   "execution_count": 7,
   "source": [
    "from pyramid import expand\n",
    "\n",
    "g[1].show()\n",
    "l[0].show()\n",
    "anansi_veles_img.show()\n",
    "\n",
    "original_image = ImageChops.add(l[0], expand(g[1]))\n",
    "original_image.show()"
   ],
   "outputs": [],
   "metadata": {}
  },
  {
   "cell_type": "markdown",
   "source": [
    "# Multi-Resolution Image Blending\n",
    "\n",
    "Showing what blending looks like with the matting equation (with and without laplacian pyramids)"
   ],
   "metadata": {}
  },
  {
   "cell_type": "code",
   "execution_count": 2,
   "source": [
    "from PIL import Image, ImageChops\n",
    "\n",
    "A = Image.open('Hand.png').convert('RGB')\n",
    "A = A.resize((x//4 for x in A.size))\n",
    "A.show()\n",
    "\n",
    "B = Image.open('Veles-Mask-Template.png').convert('RGB')\n",
    "B = B.resize((x//4 for x in B.size))\n",
    "B.show()\n",
    "\n",
    "M = Image.open('Mask.png').convert('L')\n",
    "M = M.resize((x//4 for x in M.size))\n",
    "M.show()"
   ],
   "outputs": [],
   "metadata": {}
  },
  {
   "cell_type": "markdown",
   "source": [
    "## Using the naive approach\n",
    "Using the matting approach"
   ],
   "metadata": {}
  },
  {
   "cell_type": "code",
   "execution_count": 4,
   "source": [
    "M = Image.open('Mask.png').convert('L')\n",
    "M = M.resize((x//4 for x in M.size))\n",
    "\n",
    "# the composite function uses the matting equation\n",
    "result = ImageChops.composite(B, A, M)\n",
    "result.show()"
   ],
   "outputs": [],
   "metadata": {}
  },
  {
   "cell_type": "markdown",
   "source": [
    "## Using Multi-Resolution Blending"
   ],
   "metadata": {}
  },
  {
   "cell_type": "code",
   "execution_count": 16,
   "source": [
    "from PIL import ImageFilter, Image\n",
    "from pyramid import laplacian, laplacian0, pyramid\n",
    "\n",
    "kernel = ImageFilter.GaussianBlur(3)\n",
    "\n",
    "# Compute A's laplcaian pyramid\n",
    "gaussian_A = pyramid(A, scale=5, kernel=kernel)\n",
    "laplacian_A = laplacian0(gaussian_A, scale=5)\n",
    "laplacian_A[0].show()\n",
    "# gaussian_A[0].show()\n",
    "\n",
    "# Compute B's laplcaian pyramid\n",
    "gaussian_B = pyramid(B, scale=5, kernel=kernel)\n",
    "laplacian_B = laplacian(B, scale=5, kernel=kernel)\n",
    "laplacian_B[0].show()\n",
    "\n",
    "# Compute M's gaussian pyramid\n",
    "gaussian_M = pyramid(M, scale=5, kernel=kernel)\n",
    "gaussian_M[0].show()"
   ],
   "outputs": [
    {
     "output_type": "stream",
     "name": "stdout",
     "text": [
      "Scale 3\n",
      "Scale 2\n",
      "Scale 1\n",
      "Scale 0\n"
     ]
    }
   ],
   "metadata": {}
  },
  {
   "cell_type": "markdown",
   "source": [
    "## Create the blended image"
   ],
   "metadata": {}
  },
  {
   "cell_type": "code",
   "execution_count": 13,
   "source": [
    "# The gaussian images `gaussian_M` has some images a single pixel large than the other laplacian images\n",
    "# e.g at level 4, all images are (188, 252) - (188, 252) - (189, 252) with the gaussian being (189,252)\n",
    "expected_sizes = [x.size for x in laplacian_A]\n",
    "gaussian_M = [im.resize(sz, Image.ANTIALIAS) for sz,im in zip(expected_sizes, gaussian_M)]"
   ],
   "outputs": [],
   "metadata": {}
  },
  {
   "cell_type": "code",
   "execution_count": 14,
   "source": [
    "result = []\n",
    "for i in range(0, len(laplacian_A)):\n",
    "    lbi = laplacian_B[i]\n",
    "    lai = laplacian_A[i]\n",
    "    gmi = gaussian_M[i]\n",
    "    t = ImageChops.composite(lbi, lai, gmi)\n",
    "    result.append(t)\n",
    "result[0].show()"
   ],
   "outputs": [],
   "metadata": {}
  },
  {
   "cell_type": "code",
   "execution_count": 15,
   "source": [
    "from pyramid import expand\n",
    "blended_image = ImageChops.add(result[0], expand(gaussian_A[1]))\n",
    "blended_image.show()"
   ],
   "outputs": [],
   "metadata": {}
  }
 ],
 "metadata": {
  "orig_nbformat": 4,
  "language_info": {
   "name": "python",
   "version": "3.9.7",
   "mimetype": "text/x-python",
   "codemirror_mode": {
    "name": "ipython",
    "version": 3
   },
   "pygments_lexer": "ipython3",
   "nbconvert_exporter": "python",
   "file_extension": ".py"
  },
  "kernelspec": {
   "name": "python3",
   "display_name": "Python 3.9.7 64-bit"
  },
  "interpreter": {
   "hash": "aee8b7b246df8f9039afb4144a1f6fd8d2ca17a180786b69acc140d282b71a49"
  }
 },
 "nbformat": 4,
 "nbformat_minor": 2
}