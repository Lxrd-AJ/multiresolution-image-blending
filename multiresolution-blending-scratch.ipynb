{
 "cells": [
  {
   "cell_type": "markdown",
   "source": [
    "# Multi-Resolution Image Blending from scratch"
   ],
   "metadata": {}
  }
 ],
 "metadata": {
  "orig_nbformat": 4,
  "language_info": {
   "name": "python"
  }
 },
 "nbformat": 4,
 "nbformat_minor": 2
}