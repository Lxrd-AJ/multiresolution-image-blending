{
 "cells": [
  {
   "cell_type": "markdown",
   "metadata": {},
   "source": [
    "# Multi-Resolution Image Blending from scratch"
   ]
  },
  {
   "cell_type": "code",
   "execution_count": 1,
   "metadata": {},
   "outputs": [],
   "source": [
    "%reload_ext autoreload\n",
    "%autoreload 2"
   ]
  },
  {
   "cell_type": "code",
   "execution_count": 2,
   "metadata": {},
   "outputs": [],
   "source": [
    "\n",
    "from PIL import Image"
   ]
  },
  {
   "cell_type": "code",
   "execution_count": 3,
   "metadata": {},
   "outputs": [],
   "source": [
    "img = Image.open('Julia.jpeg')\n",
    "anansi_veles_img = img.resize((x//4 for x in img.size)) # downscale by 4"
   ]
  },
  {
   "cell_type": "markdown",
   "metadata": {},
   "source": [
    "# Building a Gaussian Pyramid"
   ]
  },
  {
   "cell_type": "code",
   "execution_count": 4,
   "metadata": {},
   "outputs": [
    {
     "name": "stdout",
     "output_type": "stream",
     "text": [
      "(691, 884)\n",
      "(345, 442)\n",
      "(172, 221)\n",
      "(86, 110)\n",
      "(43, 55)\n"
     ]
    }
   ],
   "source": [
    "from pyramid import pyramid, smoothing_kernel\n",
    "from PIL import ImageFilter\n",
    "\n",
    "kernel = ImageFilter.GaussianBlur(2)\n",
    "# kernel = smoothing_kernel()\n",
    "g = pyramid(anansi_veles_img, scale=5, kernel=kernel)\n",
    "for x in g:\n",
    "    print(x.size)\n",
    "    # x.show()"
   ]
  },
  {
   "cell_type": "markdown",
   "metadata": {},
   "source": [
    "# Showing the effects of what smoothing an image does"
   ]
  },
  {
   "cell_type": "code",
   "execution_count": 5,
   "metadata": {},
   "outputs": [],
   "source": [
    "from PIL import ImageChops, ImageFilter\n",
    "kernel = ImageFilter.GaussianBlur(2)\n",
    "g0 = anansi_veles_img\n",
    "g1 = anansi_veles_img.filter(kernel)\n",
    "# g1.show()\n",
    "diff = ImageChops.difference(g0, g1)\n",
    "# diff = ImageChops.subtract(g1, g0, 1.0, 150) #150 added here to help brighten the image\n",
    "# diff.show()"
   ]
  },
  {
   "cell_type": "markdown",
   "metadata": {},
   "source": [
    "# Building the laplcaian pyramid"
   ]
  },
  {
   "cell_type": "code",
   "execution_count": 6,
   "metadata": {},
   "outputs": [
    {
     "name": "stdout",
     "output_type": "stream",
     "text": [
      "(690, 884)\n",
      "(344, 442)\n",
      "(172, 220)\n",
      "(86, 110)\n",
      "(42, 54)\n"
     ]
    }
   ],
   "source": [
    "from pyramid import laplacian\n",
    "l = laplacian(anansi_veles_img, scale=5, kernel=kernel)\n",
    "for im in l:\n",
    "    print(im.size)\n",
    "    # im.show()"
   ]
  },
  {
   "cell_type": "markdown",
   "metadata": {},
   "source": [
    "## Moment of truth!\n",
    "Reconstructing the original image from the first laplacian, $l_0$ and the 2nd pyramid $g_1$"
   ]
  },
  {
   "cell_type": "code",
   "execution_count": 7,
   "metadata": {},
   "outputs": [],
   "source": [
    "from pyramid import expand\n",
    "\n",
    "g[1].show()\n",
    "l[0].show()\n",
    "anansi_veles_img.show()\n",
    "\n",
    "original_image = ImageChops.add(l[0], expand(g[1]))\n",
    "original_image.show()"
   ]
  },
  {
   "cell_type": "markdown",
   "metadata": {},
   "source": [
    "# Multi-Resolution Image Blending\n",
    "\n",
    "Showing what blending looks like with the matting equation (with and without laplacian pyramids)"
   ]
  },
  {
   "cell_type": "code",
   "execution_count": 8,
   "metadata": {},
   "outputs": [],
   "source": [
    "from PIL import Image, ImageChops\n",
    "\n",
    "A = Image.open('Hand.png').convert('RGB')\n",
    "A = A.resize((x//4 for x in A.size))\n",
    "A.show()\n",
    "\n",
    "B = Image.open('Veles-Mask-Template.png').convert('RGB')\n",
    "B = B.resize((x//4 for x in B.size))\n",
    "B.show()\n",
    "\n",
    "M = Image.open('Mask.png').convert('L')\n",
    "M = M.resize((x//4 for x in M.size))\n",
    "M.show()"
   ]
  },
  {
   "cell_type": "markdown",
   "metadata": {},
   "source": [
    "## Using the naive approach\n",
    "Using the matting approach"
   ]
  },
  {
   "cell_type": "code",
   "execution_count": 9,
   "metadata": {},
   "outputs": [],
   "source": [
    "M = Image.open('Mask.png').convert('L')\n",
    "M = M.resize((x//4 for x in M.size))\n",
    "\n",
    "# the composite function uses the matting equation\n",
    "result = ImageChops.composite(B, A, M)\n",
    "result.show()"
   ]
  },
  {
   "cell_type": "markdown",
   "metadata": {},
   "source": [
    "## Using Multi-Resolution Blending"
   ]
  },
  {
   "cell_type": "code",
   "execution_count": 10,
   "metadata": {},
   "outputs": [
    {
     "name": "stdout",
     "output_type": "stream",
     "text": [
      "Scale 3\n",
      "Scale 2\n",
      "Scale 1\n",
      "Scale 0\n"
     ]
    }
   ],
   "source": [
    "from PIL import ImageFilter, Image\n",
    "from pyramid import laplacian, laplacian0, pyramid\n",
    "\n",
    "kernel = ImageFilter.GaussianBlur(2)\n",
    "\n",
    "# Compute A's laplcaian pyramid\n",
    "gaussian_A = pyramid(A, scale=5, kernel=kernel)\n",
    "laplacian_A = laplacian0(gaussian_A, scale=5)\n",
    "laplacian_A[0].show()\n",
    "# gaussian_A[0].show()\n",
    "\n",
    "# Compute B's laplcaian pyramid\n",
    "gaussian_B = pyramid(B, scale=5, kernel=kernel)\n",
    "laplacian_B = laplacian(B, scale=5, kernel=kernel)\n",
    "laplacian_B[0].show()\n",
    "\n",
    "# Compute M's gaussian pyramid\n",
    "gaussian_M = pyramid(M, scale=5, kernel=kernel)\n",
    "gaussian_M[0].show()"
   ]
  },
  {
   "cell_type": "markdown",
   "metadata": {},
   "source": [
    "## Create the blended image"
   ]
  },
  {
   "cell_type": "code",
   "execution_count": 11,
   "metadata": {},
   "outputs": [],
   "source": [
    "# The gaussian images `gaussian_M` has some images a single pixel large than the other laplacian images\n",
    "# e.g at level 4, all images are (188, 252) - (188, 252) - (189, 252) with the gaussian being (189,252)\n",
    "expected_sizes = [x.size for x in laplacian_A]\n",
    "gaussian_M = [im.resize(sz, Image.ANTIALIAS) for sz,im in zip(expected_sizes, gaussian_M)]"
   ]
  },
  {
   "cell_type": "code",
   "execution_count": 12,
   "metadata": {},
   "outputs": [],
   "source": [
    "result = []\n",
    "for i in range(0, len(laplacian_A)):\n",
    "    lbi = laplacian_B[i]\n",
    "    lai = laplacian_A[i]\n",
    "    gmi = gaussian_M[i]\n",
    "    t = ImageChops.composite(lbi, lai, gmi)\n",
    "    result.append(t)\n",
    "result[0].show()"
   ]
  },
  {
   "cell_type": "code",
   "execution_count": 13,
   "metadata": {},
   "outputs": [
    {
     "data": {
      "text/plain": [
       "<matplotlib.image.AxesImage at 0x13ca45b20>"
      ]
     },
     "execution_count": 13,
     "metadata": {},
     "output_type": "execute_result"
    },
    {
     "data": {
      "image/png": "[encoded data removed]",
      "text/plain": [
       "<Figure size 432x288 with 1 Axes>"
      ]
     },
     "metadata": {
      "needs_background": "light"
     },
     "output_type": "display_data"
    }
   ],
   "source": [
    "from pyramid import expand, reconstruct_laplacian\n",
    "import numpy as np\n",
    "import matplotlib.pyplot as plt\n",
    "# blended_image = ImageChops.add(result[0], expand(gaussian_A[1]))\n",
    "# blended_image.show()\n",
    "\n",
    "# or using only the laplacian\n",
    "blended_image = reconstruct_laplacian(result)\n",
    "blended_image.show()\n",
    "blended_image.save('blended_image_scratch.png')\n",
    "\n",
    "img = np.array(blended_image, dtype=np.uint8)\n",
    "plt.imshow(img)"
   ]
  },
  {
   "cell_type": "code",
   "execution_count": 14,
   "metadata": {},
   "outputs": [
    {
     "name": "stdout",
     "output_type": "stream",
     "text": [
      "5\n",
      "Scale 4\n",
      "(188, 252)\n",
      "(188, 252)\n",
      "Scale 3\n",
      "(378, 504)\n",
      "(378, 504)\n",
      "Scale 2\n",
      "(756, 1008)\n",
      "(756, 1008)\n",
      "Scale 1\n",
      "(1512, 2016)\n",
      "(1512, 2016)\n"
     ]
    }
   ],
   "source": [
    "# up2 = result[4].resize(result[3].size, Image.ANTIALIAS)\n",
    "# up2.show()\n",
    "# r = ImageChops.add(result[3], up2)\n",
    "# r.show()\n",
    "\n",
    "# bubbled = []\n",
    "# scale = len(result)\n",
    "# print(scale)\n",
    "# up = result[-1]\n",
    "# for i in (range(scale-1,0,-1)):\n",
    "#     print(f\"Scale {i}\")\n",
    "#     up = up.resize(result[i-1].size, Image.ANTIALIAS)\n",
    "#     print(up.size)\n",
    "#     print(result[i-1].size)\n",
    "#     # li = ImageChops.subtract(gp[i], gExp)\n",
    "#     up = ImageChops.add(result[i-1], up)\n",
    "#     # up.show()\n",
    "#     bubbled.append(up)\n",
    "\n",
    "# [x.show() for x in result]\n"
   ]
  }
 ],
 "metadata": {
  "interpreter": {
   "hash": "aee8b7b246df8f9039afb4144a1f6fd8d2ca17a180786b69acc140d282b71a49"
  },
  "kernelspec": {
   "display_name": "Python 3.9.7 64-bit",
   "name": "python3"
  },
  "language_info": {
   "codemirror_mode": {
    "name": "ipython",
    "version": 3
   },
   "file_extension": ".py",
   "mimetype": "text/x-python",
   "name": "python",
   "nbconvert_exporter": "python",
   "pygments_lexer": "ipython3",
   "version": "3.9.7"
  },
  "orig_nbformat": 4
 },
 "nbformat": 4,
 "nbformat_minor": 2
}
